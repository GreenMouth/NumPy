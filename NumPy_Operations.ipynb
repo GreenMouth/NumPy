{
 "cells": [
  {
   "cell_type": "code",
   "execution_count": 1,
   "metadata": {},
   "outputs": [],
   "source": [
    "#Author: Prashant Shinde\n",
    "#Date: March 9th, 2020"
   ]
  },
  {
   "cell_type": "raw",
   "metadata": {},
   "source": [
    "NumPy:\n",
    "Increase speed of Python scripts\n",
    "Instead of for loops vectorise operation using NumPy\n",
    "Vectorization takes less memory in system hence operations becomes faster\n",
    "Create multi dimentional arrays"
   ]
  },
  {
   "cell_type": "raw",
   "metadata": {},
   "source": [
    "Operations using Numpy array array are lot faster than python list\n",
    "because numpy array are homogenious (has 1 type of data in it)\n",
    "List can contain heterogeneous datatypes (string & integer, etc.) - because python is a dynamic language - don't have to define a datatype\n",
    "You CAN add a string in an Integer numpy array but result will be 'all strings' (1 data type)\n",
    "If working with heterogeneous data -- use Python lists\n",
    "\n",
    "*** NumPy are \"homogeneous\" data type\n",
    "NumPy array can only have 1 datatype"
   ]
  },
  {
   "cell_type": "raw",
   "metadata": {},
   "source": [
    "Read:\n",
    "https://stackoverflow.com/questions/4370745/view-onto-a-numpy-array (Array VIEW vs COPY)\n",
    "NumPy is so fast & efficient that other libraries use it to build on it(e.g. pandas, tensorflow)"
   ]
  },
  {
   "cell_type": "code",
   "execution_count": 2,
   "metadata": {},
   "outputs": [],
   "source": [
    "#Import NumPy\n",
    "import numpy as np\n",
    "import time"
   ]
  },
  {
   "cell_type": "markdown",
   "metadata": {},
   "source": [
    "# Array Creation (np.array())"
   ]
  },
  {
   "cell_type": "code",
   "execution_count": 3,
   "metadata": {},
   "outputs": [
    {
     "name": "stdout",
     "output_type": "stream",
     "text": [
      "[1 2 3 4 5]\n",
      "(5,)\n"
     ]
    }
   ],
   "source": [
    "#NumPy Array\n",
    "array_a = np.array([1,2,3,4,5])\n",
    "print(array_a)\n",
    "print(array_a.shape) #tuple - 1 dimentional array with shape 5"
   ]
  },
  {
   "cell_type": "code",
   "execution_count": 4,
   "metadata": {},
   "outputs": [
    {
     "name": "stdout",
     "output_type": "stream",
     "text": [
      "[1, 2, 3, 4, 5]\n"
     ]
    }
   ],
   "source": [
    "#Python List\n",
    "print([1,2,3,4,5])"
   ]
  },
  {
   "cell_type": "code",
   "execution_count": 5,
   "metadata": {},
   "outputs": [
    {
     "name": "stdout",
     "output_type": "stream",
     "text": [
      "[[1 2 3 4 5]\n",
      " [1 2 3 4 5]]\n",
      "(2, 5)\n"
     ]
    }
   ],
   "source": [
    "#2 dimensional array\n",
    "array_b = np.array([[1,2,3,4,5],[1,2,3,4,5]])\n",
    "print(array_b)\n",
    "print(array_b.shape) "
   ]
  },
  {
   "cell_type": "code",
   "execution_count": 6,
   "metadata": {},
   "outputs": [
    {
     "name": "stdout",
     "output_type": "stream",
     "text": [
      "3 dimetional NumPy array shape is: (3, 3)\n",
      "[[1 2 3]\n",
      " [4 5 6]\n",
      " [7 8 9]]\n"
     ]
    }
   ],
   "source": [
    "#create 3x3 numpy array (INT dtype)\n",
    "seq_a = [1,2,3]\n",
    "seq_b = [4,5,6]\n",
    "seq_c = [7,8,9]\n",
    "\n",
    "array_abc = np.array([seq_a,seq_b,seq_c])\n",
    "print('3 dimetional NumPy array shape is:', array_abc.shape)\n",
    "print(array_abc)"
   ]
  },
  {
   "cell_type": "code",
   "execution_count": 7,
   "metadata": {},
   "outputs": [
    {
     "name": "stdout",
     "output_type": "stream",
     "text": [
      "4 dimemsional NumPy array shape is: (4, 3)\n",
      "[[ 1.  2.  3.]\n",
      " [ 4.  5.  6.]\n",
      " [ 7.  8.  9.]\n",
      " [10. 11. 12.]]\n"
     ]
    }
   ],
   "source": [
    "#create 3x3 numpy array (float dtype)\n",
    "seq_a = [1,2,3]\n",
    "seq_b = [4,5,6]\n",
    "seq_c = [7,8,9]\n",
    "seq_d = [10.0,11.0,12.0] #due to adding floats, all other NumPy array values will become float\n",
    "\n",
    "array_abcd = np.array([seq_a,seq_b,seq_c, seq_d])\n",
    "print('4 dimemsional NumPy array shape is:', array_abcd.shape)\n",
    "print(array_abcd)"
   ]
  },
  {
   "cell_type": "code",
   "execution_count": 8,
   "metadata": {},
   "outputs": [
    {
     "name": "stdout",
     "output_type": "stream",
     "text": [
      "Shape of seq_5d is: (5, 2)\n",
      "[[ 1  2]\n",
      " [ 3  4]\n",
      " [ 5  6]\n",
      " [ 7  8]\n",
      " [ 9 10]]\n",
      "<class 'numpy.ndarray'>\n"
     ]
    }
   ],
   "source": [
    "#Numpy Array of 5 dimention (e.g: 5x2)\n",
    "seq_5d = np.array([[1,2], \n",
    "                   [3,4],\n",
    "                   [5,6],\n",
    "                   [7,8],\n",
    "                   [9,10]])\n",
    "print('Shape of seq_5d is:', seq_5d.shape)\n",
    "print(seq_5d)\n",
    "print(type(seq_5d))\n"
   ]
  },
  {
   "cell_type": "markdown",
   "metadata": {},
   "source": [
    "# Reshaping Array"
   ]
  },
  {
   "cell_type": "code",
   "execution_count": 9,
   "metadata": {},
   "outputs": [
    {
     "name": "stdout",
     "output_type": "stream",
     "text": [
      "SHAPE of NumPy array array_a is: (2, 3)\n",
      "SIZE of NumPy array array_a is: 6\n"
     ]
    },
    {
     "data": {
      "text/plain": [
       "array([[1, 2, 3],\n",
       "       [4, 5, 6]])"
      ]
     },
     "execution_count": 9,
     "metadata": {},
     "output_type": "execute_result"
    }
   ],
   "source": [
    "array_a = np.array([[1,2,3],[4,5,6]])\n",
    "print('SHAPE of NumPy array array_a is:', array_a.shape)\n",
    "print('SIZE of NumPy array array_a is:', array_a.size)\n",
    "array_a\n",
    "#SIZE=6 means, there are 6 elements in the given NumPy array\n",
    "#If you RESHAPE the NumPy array, SIZE should be SAME\n",
    "#An NumPy array can be reshared in MANY ways (has to be a MULTIPLE of 2 numbers)"
   ]
  },
  {
   "cell_type": "code",
   "execution_count": 10,
   "metadata": {},
   "outputs": [
    {
     "name": "stdout",
     "output_type": "stream",
     "text": [
      "SAHPE is: (3, 2)\n",
      "SIZE is: 6\n"
     ]
    },
    {
     "data": {
      "text/plain": [
       "array([[1, 4],\n",
       "       [2, 5],\n",
       "       [3, 6]])"
      ]
     },
     "execution_count": 10,
     "metadata": {},
     "output_type": "execute_result"
    }
   ],
   "source": [
    "#Lets reshape 6 element NumPy array\n",
    "# 6 = 1x6 or 3x2\n",
    "#array_b = array_a.reshape(2,3) #(2,3) IS A TRANSPOSE OF (3,2)\n",
    "#or\n",
    "array_b = array_a.T\n",
    "print('SAHPE is:', array_b.shape)\n",
    "print('SIZE is:', array_b.size)\n",
    "array_b"
   ]
  },
  {
   "cell_type": "code",
   "execution_count": 11,
   "metadata": {},
   "outputs": [
    {
     "name": "stdout",
     "output_type": "stream",
     "text": [
      "SAHPE is: (1, 6)\n",
      "SIZE is: 6\n"
     ]
    },
    {
     "data": {
      "text/plain": [
       "array([[1, 2, 3, 4, 5, 6]])"
      ]
     },
     "execution_count": 11,
     "metadata": {},
     "output_type": "execute_result"
    }
   ],
   "source": [
    "#Lets reshape 6 element NumPy array\n",
    "# 6 = 1x6 or 3x2\n",
    "array_b = array_a.reshape(1,6)\n",
    "print('SAHPE is:', array_b.shape)\n",
    "print('SIZE is:', array_b.size)\n",
    "array_b"
   ]
  },
  {
   "cell_type": "code",
   "execution_count": 12,
   "metadata": {},
   "outputs": [
    {
     "name": "stdout",
     "output_type": "stream",
     "text": [
      "SAHPE is: (6, 1)\n",
      "SIZE is: 6\n"
     ]
    },
    {
     "data": {
      "text/plain": [
       "array([[1],\n",
       "       [2],\n",
       "       [3],\n",
       "       [4],\n",
       "       [5],\n",
       "       [6]])"
      ]
     },
     "execution_count": 12,
     "metadata": {},
     "output_type": "execute_result"
    }
   ],
   "source": [
    "#Lets reshape 6 element NumPy array\n",
    "# 6 = 1x6 or 3x2\n",
    "array_b = array_a.reshape(6,1)\n",
    "print('SAHPE is:', array_b.shape)\n",
    "print('SIZE is:', array_b.size)\n",
    "array_b"
   ]
  },
  {
   "cell_type": "markdown",
   "metadata": {},
   "source": [
    "# Array Indexing"
   ]
  },
  {
   "cell_type": "code",
   "execution_count": 13,
   "metadata": {},
   "outputs": [
    {
     "data": {
      "text/plain": [
       "array([[1, 2],\n",
       "       [3, 4],\n",
       "       [5, 6]])"
      ]
     },
     "execution_count": 13,
     "metadata": {},
     "output_type": "execute_result"
    }
   ],
   "source": [
    "#Numpy INDEX starts from 0\n",
    "#pull a value of NumPy array at specific index: Indexing\n",
    "\n",
    "array_a = np.array([[1,2],[3,4],[5,6]])\n",
    "array_a"
   ]
  },
  {
   "cell_type": "code",
   "execution_count": 14,
   "metadata": {},
   "outputs": [
    {
     "data": {
      "text/plain": [
       "array([3, 4])"
      ]
     },
     "execution_count": 14,
     "metadata": {},
     "output_type": "execute_result"
    }
   ],
   "source": [
    "#Index 1 \n",
    "array_a[1] #return a ROW"
   ]
  },
  {
   "cell_type": "code",
   "execution_count": 15,
   "metadata": {},
   "outputs": [
    {
     "data": {
      "text/plain": [
       "array([2, 4, 6])"
      ]
     },
     "execution_count": 15,
     "metadata": {},
     "output_type": "execute_result"
    }
   ],
   "source": [
    "#Return a COLUMN (all rows)\n",
    "array_a[:,1]"
   ]
  },
  {
   "cell_type": "code",
   "execution_count": 16,
   "metadata": {},
   "outputs": [
    {
     "data": {
      "text/plain": [
       "6"
      ]
     },
     "execution_count": 16,
     "metadata": {},
     "output_type": "execute_result"
    }
   ],
   "source": [
    "#Return a specific VALUE\n",
    "array_a[2,1]"
   ]
  },
  {
   "cell_type": "code",
   "execution_count": 17,
   "metadata": {},
   "outputs": [
    {
     "name": "stdout",
     "output_type": "stream",
     "text": [
      "NumPy array_a is: \n",
      " [[ 1  2  3  4]\n",
      " [ 5  6  7  8]\n",
      " [ 9 10 11 12]\n",
      " [13 14 15 16]]\n",
      "Transposed NumPy array_b is: \n",
      " [[ 1  5  9 13]\n",
      " [ 2  6 10 14]\n",
      " [ 3  7 11 15]\n",
      " [ 4  8 12 16]]\n"
     ]
    }
   ],
   "source": [
    "#QUIZ:\n",
    "array_a = np.array([[1,2,3,4], [5,6,7,8], [9,10,11,12], [13,14,15,16]])\n",
    "array_b = array_a.T\n",
    "print('NumPy array_a is: \\n', array_a)\n",
    "print('Transposed NumPy array_b is: \\n', array_b)"
   ]
  },
  {
   "cell_type": "code",
   "execution_count": 18,
   "metadata": {},
   "outputs": [
    {
     "name": "stdout",
     "output_type": "stream",
     "text": [
      "SHAPE of array_a is: (4, 4)\n",
      "SIZE of array_a is: 16\n"
     ]
    }
   ],
   "source": [
    "print('SHAPE of array_a is:', array_a.shape) #4 rows & 4 columns\n",
    "print('SIZE of array_a is:', array_a.size) #16 elements in array\n",
    "#Reshaping: can be done is - (1,16), (16,1 same as 1,16), (2,8), (8,2), (4,4 is a Transpose)"
   ]
  },
  {
   "cell_type": "code",
   "execution_count": 19,
   "metadata": {},
   "outputs": [
    {
     "data": {
      "text/plain": [
       "array([[ 1,  2,  3,  4,  5,  6,  7,  8],\n",
       "       [ 9, 10, 11, 12, 13, 14, 15, 16]])"
      ]
     },
     "execution_count": 19,
     "metadata": {},
     "output_type": "execute_result"
    }
   ],
   "source": [
    "array_b = array_a.reshape(2,8)\n",
    "array_b"
   ]
  },
  {
   "cell_type": "code",
   "execution_count": 20,
   "metadata": {},
   "outputs": [
    {
     "data": {
      "text/plain": [
       "array([[ 1,  2],\n",
       "       [ 3,  4],\n",
       "       [ 5,  6],\n",
       "       [ 7,  8],\n",
       "       [ 9, 10],\n",
       "       [11, 12],\n",
       "       [13, 14],\n",
       "       [15, 16]])"
      ]
     },
     "execution_count": 20,
     "metadata": {},
     "output_type": "execute_result"
    }
   ],
   "source": [
    "array_b = array_a.reshape(8,2)\n",
    "array_b"
   ]
  },
  {
   "cell_type": "code",
   "execution_count": 21,
   "metadata": {},
   "outputs": [
    {
     "name": "stdout",
     "output_type": "stream",
     "text": [
      "array_a is:\n",
      " [[ 1  2  3  4]\n",
      " [ 5  6  7  8]\n",
      " [ 9 10 11 12]\n",
      " [13 14 15 16]]\n",
      "\n",
      " [1 2 3 4]\n",
      "\n",
      " 4 & 14\n"
     ]
    }
   ],
   "source": [
    "print('array_a is:\\n', array_a)\n",
    "print('\\n', array_a[0])\n",
    "print('\\n', array_a[0,3], '&', array_a[3,1])"
   ]
  },
  {
   "cell_type": "code",
   "execution_count": 22,
   "metadata": {},
   "outputs": [
    {
     "name": "stdout",
     "output_type": "stream",
     "text": [
      "[13 14 15 16]\n",
      "4\n",
      "10\n",
      "10\n",
      "2\n",
      "[ 3  7 11 15]\n"
     ]
    }
   ],
   "source": [
    "#NumPy suppports NEGATIVE indexing like Python\n",
    "print(array_a[-1])\n",
    "print(array_a[0,-1])\n",
    "print(array_a[-2,-3])\n",
    "print(array_a[2,-3])\n",
    "print(array_a[0,-3])\n",
    "print(array_a[:,-2])\n"
   ]
  },
  {
   "cell_type": "markdown",
   "metadata": {},
   "source": [
    "# Default Arrays"
   ]
  },
  {
   "cell_type": "code",
   "execution_count": 23,
   "metadata": {},
   "outputs": [
    {
     "data": {
      "text/plain": [
       "array([[1., 2., 3.],\n",
       "       [4., 5., 6.]])"
      ]
     },
     "execution_count": 23,
     "metadata": {},
     "output_type": "execute_result"
    }
   ],
   "source": [
    "#int: (- to +) integer values\n",
    "#uint: (+) integer values only\n",
    "\n",
    "array_a = np.array([[1,2,3], [4,5,6]], dtype = float)\n",
    "array_a"
   ]
  },
  {
   "cell_type": "code",
   "execution_count": 24,
   "metadata": {},
   "outputs": [
    {
     "data": {
      "text/plain": [
       "array([[0., 0., 0.],\n",
       "       [0., 0., 0.],\n",
       "       [0., 0., 0.]])"
      ]
     },
     "execution_count": 24,
     "metadata": {},
     "output_type": "execute_result"
    }
   ],
   "source": [
    "array_b = np.zeros((3,3)) #takes 1 argument: TUPLE Shape\n",
    "array_b"
   ]
  },
  {
   "cell_type": "code",
   "execution_count": 25,
   "metadata": {},
   "outputs": [
    {
     "data": {
      "text/plain": [
       "array([[1., 1., 1.],\n",
       "       [1., 1., 1.]])"
      ]
     },
     "execution_count": 25,
     "metadata": {},
     "output_type": "execute_result"
    }
   ],
   "source": [
    "array_c = np.ones((2,3))  #takes 1 argument: TUPLE Shape\n",
    "array_c"
   ]
  },
  {
   "cell_type": "code",
   "execution_count": 26,
   "metadata": {},
   "outputs": [
    {
     "data": {
      "text/plain": [
       "array([[7, 7, 7, 7],\n",
       "       [7, 7, 7, 7],\n",
       "       [7, 7, 7, 7],\n",
       "       [7, 7, 7, 7]])"
      ]
     },
     "execution_count": 26,
     "metadata": {},
     "output_type": "execute_result"
    }
   ],
   "source": [
    "array_d = np.full((4,4), 7) #takes 2 arguments: TUPLE Shape & Value\n",
    "array_d"
   ]
  },
  {
   "cell_type": "code",
   "execution_count": 27,
   "metadata": {},
   "outputs": [
    {
     "data": {
      "text/plain": [
       "array([[0.11860988, 0.44804214, 0.67638369],\n",
       "       [0.11633189, 0.1681891 , 0.04665667],\n",
       "       [0.93452629, 0.60501851, 0.51979195]])"
      ]
     },
     "execution_count": 27,
     "metadata": {},
     "output_type": "execute_result"
    }
   ],
   "source": [
    "array_e = np.random.random((3,3)) #takes 1 argument: TUPLE Shape\n",
    "array_e"
   ]
  },
  {
   "cell_type": "markdown",
   "metadata": {},
   "source": [
    "# NumPy Datatypes & Values"
   ]
  },
  {
   "cell_type": "code",
   "execution_count": 28,
   "metadata": {},
   "outputs": [
    {
     "name": "stdout",
     "output_type": "stream",
     "text": [
      "32767\n",
      "-32768\n",
      "type of array_a is: int64\n",
      "type of array_b is: int64\n",
      "type of array_c is: int16\n"
     ]
    }
   ],
   "source": [
    "#If datatype is not specified, Numpy will use CORRECT DATATYPE automatically\n",
    "#datatype np.int16 Integer (-32768 to 32767)\n",
    "print(np.iinfo(np.int16).max)\n",
    "print(np.iinfo(np.int16).min)\n",
    "\n",
    "array_a = np.array([-32770])\n",
    "print('type of array_a is:', array_a.dtype) #numpy handles dtype automatically based on element value\n",
    "\n",
    "array_b = np.array([100])\n",
    "print('type of array_b is:', array_b.dtype) #issue can be handled by defining dtype\n",
    "\n",
    "array_c = np.array([100], dtype = np.int16)\n",
    "print('type of array_c is:', array_c.dtype)\n"
   ]
  },
  {
   "cell_type": "code",
   "execution_count": 29,
   "metadata": {},
   "outputs": [
    {
     "name": "stdout",
     "output_type": "stream",
     "text": [
      "2147483647\n",
      "-2147483648\n"
     ]
    }
   ],
   "source": [
    "#datatype np.int32 Integer\n",
    "print(np.iinfo(np.int32).max)\n",
    "print(np.iinfo(np.int32).min)"
   ]
  },
  {
   "cell_type": "code",
   "execution_count": 30,
   "metadata": {},
   "outputs": [
    {
     "name": "stdout",
     "output_type": "stream",
     "text": [
      "9223372036854775807\n",
      "-9223372036854775808\n"
     ]
    }
   ],
   "source": [
    "#datatype np.int64 Integer\n",
    "print(np.iinfo(np.int64).max)\n",
    "print(np.iinfo(np.int64).min)"
   ]
  },
  {
   "cell_type": "code",
   "execution_count": 31,
   "metadata": {},
   "outputs": [
    {
     "data": {
      "text/plain": [
       "array([65535,     0,     1], dtype=uint16)"
      ]
     },
     "execution_count": 31,
     "metadata": {},
     "output_type": "execute_result"
    }
   ],
   "source": [
    "#NumPy Datatype OVERFLOW\n",
    "#-1 is converted into 65525 (due to datatype error: uint can only take +ve values)\n",
    "array_overflow = np.array([-1,0,1], dtype = np.uint16)\n",
    "array_overflow\n",
    "\n",
    "#basically, we CAN overflow numpy array\n",
    "#int16, int32 & int64 are all different (bit size allocation in the memory)\n"
   ]
  },
  {
   "cell_type": "markdown",
   "metadata": {},
   "source": [
    "# Advanced Indexing"
   ]
  },
  {
   "cell_type": "code",
   "execution_count": 32,
   "metadata": {},
   "outputs": [
    {
     "data": {
      "text/plain": [
       "array([[ 1,  2,  3,  4,  5],\n",
       "       [ 6,  7,  8,  9, 10],\n",
       "       [11, 12, 13, 14, 15],\n",
       "       [16, 17, 18, 19, 20],\n",
       "       [21, 22, 23, 24, 25]])"
      ]
     },
     "execution_count": 32,
     "metadata": {},
     "output_type": "execute_result"
    }
   ],
   "source": [
    "row1 = [1,2,3,4,5]\n",
    "row2 = [6,7,8,9,10]\n",
    "row3 = [11,12,13,14,15]\n",
    "row4 = [16,17,18,19,20]\n",
    "row5 = [21,22,23,24,25]\n",
    "\n",
    "test_data = np.array([row1, row2, row3, row4, row5])\n",
    "test_data\n"
   ]
  },
  {
   "cell_type": "code",
   "execution_count": 33,
   "metadata": {},
   "outputs": [
    {
     "name": "stdout",
     "output_type": "stream",
     "text": [
      "\n",
      " [[ 3  4]\n",
      " [ 8  9]\n",
      " [13 14]\n",
      " [18 19]\n",
      " [23 24]]\n",
      "\n",
      " [[ 4  3]\n",
      " [ 9  8]\n",
      " [14 13]\n",
      " [19 18]\n",
      " [24 23]]\n"
     ]
    }
   ],
   "source": [
    "#Slice \n",
    "#Get 3rd & 4th value from each row\n",
    "\n",
    "#don't do this\n",
    "#print(test_data[:,2] ,'&', test_data[:,3])\n",
    "\n",
    "print('\\n', test_data[:,2:4:1]) #start:ending value:step size\n",
    "\n",
    "#or using negative indexing\n",
    "#print('\\n',test_data[:,-3:-1:1])\n",
    "\n",
    "#select same 2 columns using REVERSE \n",
    "print('\\n', test_data[:,-2:-4:-1])"
   ]
  },
  {
   "cell_type": "code",
   "execution_count": 34,
   "metadata": {},
   "outputs": [
    {
     "name": "stdout",
     "output_type": "stream",
     "text": [
      "[[False False False False False]\n",
      " [ True  True  True  True  True]\n",
      " [ True  True  True  True  True]\n",
      " [ True  True  True  True  True]\n",
      " [ True  True  True  True  True]]\n",
      "[ 6  7  8  9 10 11 12 13 14 15 16 17 18 19 20 21 22 23 24 25]\n"
     ]
    }
   ],
   "source": [
    "#Boolean Indexing (True & False)\n",
    "greater_than_5 = test_data > 5\n",
    "print(greater_than_5)\n",
    "\n",
    "#Return values as 1D array (values > 5)\n",
    "print(test_data[greater_than_5])"
   ]
  },
  {
   "cell_type": "code",
   "execution_count": 35,
   "metadata": {},
   "outputs": [
    {
     "name": "stdout",
     "output_type": "stream",
     "text": [
      "[[ 0  0  0  0  0]\n",
      " [ 6  7  8  9 10]\n",
      " [11 12 13 14 15]\n",
      " [16 17 18 19 20]\n",
      " [21 22 23 24 25]]\n"
     ]
    }
   ],
   "source": [
    "#Replace with 0 if element value is less than or equal to 5\n",
    "drop_under_5 = np.where(test_data>5, test_data, 0)\n",
    "print(drop_under_5)"
   ]
  },
  {
   "cell_type": "code",
   "execution_count": 36,
   "metadata": {},
   "outputs": [
    {
     "name": "stdout",
     "output_type": "stream",
     "text": [
      "[[1 2 3 4 0]\n",
      " [0 0 0 0 0]\n",
      " [0 0 0 0 0]\n",
      " [0 0 0 0 0]\n",
      " [0 0 0 0 0]]\n"
     ]
    }
   ],
   "source": [
    "#Replace with 0 if element value is GREATER than or equal to 5\n",
    "drop_above_5 = np.where(test_data<5, test_data, 0)\n",
    "print(drop_above_5)"
   ]
  },
  {
   "cell_type": "code",
   "execution_count": 37,
   "metadata": {},
   "outputs": [
    {
     "name": "stdout",
     "output_type": "stream",
     "text": [
      "[[False False False False False]\n",
      " [ True  True  True  True  True]\n",
      " [ True  True  True  True  True]\n",
      " [ True  True  True  True False]\n",
      " [False False False False False]]\n"
     ]
    }
   ],
   "source": [
    "#Logical AND \n",
    "drop_under_5_and_over_20 = np.logical_and(test_data>5,test_data<20 )\n",
    "print(drop_under_5_and_over_20)"
   ]
  },
  {
   "cell_type": "code",
   "execution_count": 38,
   "metadata": {},
   "outputs": [
    {
     "name": "stdout",
     "output_type": "stream",
     "text": [
      "9.703636169433594e-05\n"
     ]
    }
   ],
   "source": [
    "#print values between 5 and 20 from array\n",
    "start = time.time()\n",
    "\n",
    "test_data[np.logical_and(test_data>5,test_data<20)]\n",
    "\n",
    "end = time.time()\n",
    "total_time_numpy = end - start\n",
    "print(total_time_numpy)\n"
   ]
  },
  {
   "cell_type": "code",
   "execution_count": 39,
   "metadata": {},
   "outputs": [
    {
     "name": "stdout",
     "output_type": "stream",
     "text": [
      "6\n",
      "7\n",
      "8\n",
      "9\n",
      "10\n",
      "11\n",
      "12\n",
      "13\n",
      "14\n",
      "15\n",
      "16\n",
      "17\n",
      "18\n",
      "19\n",
      "0.0005087852478027344\n"
     ]
    }
   ],
   "source": [
    "#above operation using FOR loop \n",
    "start = time.time()\n",
    "\n",
    "for i in test_data:\n",
    "    for item in i:\n",
    "        if item > 5 and item < 20:\n",
    "            print(item)\n",
    "            \n",
    "end = time.time()\n",
    "total_time_for_loop = end - start\n",
    "print(total_time_for_loop)"
   ]
  },
  {
   "cell_type": "code",
   "execution_count": 40,
   "metadata": {},
   "outputs": [
    {
     "data": {
      "text/plain": [
       "19.07"
      ]
     },
     "execution_count": 40,
     "metadata": {},
     "output_type": "execute_result"
    }
   ],
   "source": [
    "#SPEED TEST (FOR LOOPS vs NumPy Array)\n",
    "round(float((total_time_numpy/total_time_for_loop)*100), 2)\n",
    "#NumPy operations resulted in ~20% faster operation than FOR loop"
   ]
  },
  {
   "cell_type": "code",
   "execution_count": 41,
   "metadata": {},
   "outputs": [
    {
     "data": {
      "text/plain": [
       "array([[ -1,  -2,  -3,  -4,  -5],\n",
       "       [ -6,  -7,  -8,  -9, -10],\n",
       "       [-11, -12, -13, -14, -15],\n",
       "       [-16, -17, -18, -19, -20],\n",
       "       [-21, -22, -23, -24, -25]])"
      ]
     },
     "execution_count": 41,
     "metadata": {},
     "output_type": "execute_result"
    }
   ],
   "source": [
    "#Make all numpy elements negative\n",
    "np.negative(test_data)"
   ]
  },
  {
   "cell_type": "code",
   "execution_count": 42,
   "metadata": {},
   "outputs": [
    {
     "name": "stdout",
     "output_type": "stream",
     "text": [
      "[ 0  5 10 15 20 25 30 35 40 45 50 55 60 65 70 75 80 85 90 95]\n",
      "SHAPE: (20,)\n",
      "SIZE: 20\n",
      "[[ 0  5 10 15 20]\n",
      " [25 30 35 40 45]\n",
      " [50 55 60 65 70]\n",
      " [75 80 85 90 95]]\n"
     ]
    }
   ],
   "source": [
    "#NumPy arange\n",
    "array_a = np.arange(0,100,5)\n",
    "print(array_a)\n",
    "print('SHAPE:', array_a.shape)\n",
    "print('SIZE:', array_a.size)\n",
    "\n",
    "array_a_reshape = array_a.reshape(4,5) #(4,5) or (5,4) or (10,2) or (2,10) or (20,1) or (1,20)\n",
    "print(array_a_reshape)\n"
   ]
  },
  {
   "cell_type": "code",
   "execution_count": 43,
   "metadata": {},
   "outputs": [
    {
     "data": {
      "text/plain": [
       "array([20, 45, 70, 95])"
      ]
     },
     "execution_count": 43,
     "metadata": {},
     "output_type": "execute_result"
    }
   ],
   "source": [
    "#Negative Indexing (Last Column)\n",
    "array_a_reshape[:,-1]"
   ]
  },
  {
   "cell_type": "code",
   "execution_count": 44,
   "metadata": {},
   "outputs": [
    {
     "data": {
      "text/plain": [
       "array([75, 80, 85, 90, 95])"
      ]
     },
     "execution_count": 44,
     "metadata": {},
     "output_type": "execute_result"
    }
   ],
   "source": [
    "#Negative Indexing (Last Row)\n",
    "array_a_reshape[-1,:]"
   ]
  },
  {
   "cell_type": "code",
   "execution_count": 45,
   "metadata": {},
   "outputs": [
    {
     "data": {
      "text/plain": [
       "array([[False, False, False, False, False],\n",
       "       [False, False, False, False, False],\n",
       "       [False,  True,  True,  True,  True],\n",
       "       [ True,  True,  True,  True,  True]])"
      ]
     },
     "execution_count": 45,
     "metadata": {},
     "output_type": "execute_result"
    }
   ],
   "source": [
    "array_a_above_50 = array_a_reshape > 50\n",
    "array_a_above_50\n"
   ]
  },
  {
   "cell_type": "code",
   "execution_count": 46,
   "metadata": {},
   "outputs": [
    {
     "name": "stdout",
     "output_type": "stream",
     "text": [
      "[55 60 65 70 75 80 85 90 95]\n",
      "[55 65 75 85 95]\n",
      "[55 70 85]\n"
     ]
    }
   ],
   "source": [
    "#boolean Indexing\n",
    "array_a_above_50 = array_a_reshape[array_a_reshape>50]\n",
    "print(array_a_above_50)\n",
    "\n",
    "#Python Slicing (SKIP every 1 number)\n",
    "print(array_a_above_50[0:len(array_a_above_50):2])\n",
    "\n",
    "#Python Slicing (SKIP every 2 numbers in between)\n",
    "print(array_a_above_50[0:len(array_a_above_50):3] )\n",
    "\n",
    "#To do above operation with FOR loop use modulo opration.\n",
    "#Find the remainder after division of one number by another\n"
   ]
  },
  {
   "cell_type": "code",
   "execution_count": 47,
   "metadata": {},
   "outputs": [
    {
     "name": "stdout",
     "output_type": "stream",
     "text": [
      "[[ 0  5 10 15 20]\n",
      " [25 30 35 40 45]\n",
      " [50 55 60 65 70]\n",
      " [75 80 85 90 95]]\n",
      "[[-1.  -1.  -1.  -1.  -1. ]\n",
      " [-1.  -1.  -1.  -1.  -1. ]\n",
      " [-1.  27.5 30.  32.5 35. ]\n",
      " [37.5 40.  42.5 45.  47.5]]\n"
     ]
    }
   ],
   "source": [
    "#NumPy 'where' method\n",
    "print(array_a_reshape)\n",
    "print(np.where(array_a_reshape>50, array_a_reshape/2, -1))"
   ]
  },
  {
   "cell_type": "code",
   "execution_count": 48,
   "metadata": {},
   "outputs": [
    {
     "name": "stdout",
     "output_type": "stream",
     "text": [
      "[[ 1  2  3  4  5]\n",
      " [ 6  7  8  9 10]\n",
      " [11 12 13 14 15]\n",
      " [16 17 18 19 20]\n",
      " [21 22 23 24 25]]\n",
      "LENGTH: 5\n",
      "SIZE: 25\n",
      "SHAPE: (5, 5)\n",
      "[[ 1  3  5]\n",
      " [ 6  8 10]\n",
      " [11 13 15]\n",
      " [16 18 20]\n",
      " [21 23 25]]\n",
      "[[ 1  3  5]\n",
      " [ 6  8 10]\n",
      " [11 13 15]\n",
      " [16 18 20]\n",
      " [21 23 25]]\n"
     ]
    }
   ],
   "source": [
    "print(test_data)\n",
    "print('LENGTH:', len(test_data))\n",
    "print('SIZE:', test_data.size)\n",
    "print('SHAPE:', test_data.shape)\n",
    "\n",
    "#Array Slicing (remove columns)\n",
    "print(test_data[:,0:5:2])\n",
    "#OR\n",
    "print(test_data[:,0:len(test_data):2])"
   ]
  },
  {
   "cell_type": "markdown",
   "metadata": {},
   "source": [
    "# Reverse Array Elements (lr, ud & Negative Indexing)"
   ]
  },
  {
   "cell_type": "code",
   "execution_count": 49,
   "metadata": {},
   "outputs": [
    {
     "name": "stdout",
     "output_type": "stream",
     "text": [
      "Original: \n",
      " [[ 0  5 10 15 20]\n",
      " [25 30 35 40 45]\n",
      " [50 55 60 65 70]\n",
      " [75 80 85 90 95]]\n",
      "Reversed ROWS: using -ve indexing \n",
      " [[75 80 85 90 95]\n",
      " [50 55 60 65 70]\n",
      " [25 30 35 40 45]\n",
      " [ 0  5 10 15 20]]\n",
      "Reversed ROWS: using ud \n",
      " [[75 80 85 90 95]\n",
      " [50 55 60 65 70]\n",
      " [25 30 35 40 45]\n",
      " [ 0  5 10 15 20]]\n",
      "Reversed COLUMNS: using lr \n",
      " [[20 15 10  5  0]\n",
      " [45 40 35 30 25]\n",
      " [70 65 60 55 50]\n",
      " [95 90 85 80 75]]\n",
      "FLIP COLUMNS: using -ve Indexing: \n",
      " [[20 15 10  5  0]\n",
      " [45 40 35 30 25]\n",
      " [70 65 60 55 50]\n",
      " [95 90 85 80 75]]\n"
     ]
    }
   ],
   "source": [
    "#Reverse array elements\n",
    "print('Original: \\n', array_a_reshape)\n",
    "\n",
    "#FLIP ROWS: First ROW becomes LAST row, etc \n",
    "print('Reversed ROWS: using -ve indexing \\n', array_a_reshape[::-1])\n",
    "#OR\n",
    "#FLIP ROWS: First ROW becomes LAST ROW, etc\n",
    "print('Reversed ROWS: using ud \\n', np.flipud(array_a_reshape)) #ud: UP to DOWN\n",
    "\n",
    "#FLIP COLUMNS: First COLUMN becomes LAST COLUMN, etc\n",
    "print('Reversed COLUMNS: using lr \\n', np.fliplr(array_a_reshape)) #lr: LEFT to RIGHT\n",
    "\n",
    "#Using NEGATIVE Indexing\n",
    "print('FLIP COLUMNS: using -ve Indexing: \\n', array_a_reshape[:,-1:-6:-1])"
   ]
  },
  {
   "cell_type": "code",
   "execution_count": 50,
   "metadata": {},
   "outputs": [
    {
     "name": "stdout",
     "output_type": "stream",
     "text": [
      "[[ 0  5 10 15 20]\n",
      " [25 30 35 40 45]\n",
      " [50 55 60 65 70]\n",
      " [75 80 85 90 95]]\n",
      "Reversed ROWS: using FLIP \n",
      " [[95 90 85 80 75]\n",
      " [70 65 60 55 50]\n",
      " [45 40 35 30 25]\n",
      " [20 15 10  5  0]]\n"
     ]
    }
   ],
   "source": [
    "#FLIP BOTH ROWS & COLUMNS at the same time\n",
    "print(array_a_reshape)\n",
    "print('Reversed ROWS: using FLIP \\n', np.flip(array_a_reshape)) #FLIP\n"
   ]
  },
  {
   "cell_type": "code",
   "execution_count": 51,
   "metadata": {},
   "outputs": [
    {
     "name": "stdout",
     "output_type": "stream",
     "text": [
      "[[False False False False False]\n",
      " [ True  True  True  True  True]\n",
      " [ True  True  True  True  True]\n",
      " [False False False False False]]\n",
      "[25 30 35 40 45 50 55 60 65 70]\n"
     ]
    }
   ],
   "source": [
    "#NumPy logical_and\n",
    "x = np.logical_and(array_a_reshape>20, array_a_reshape<75)\n",
    "print(x)\n",
    "print(array_a_reshape[x])\n"
   ]
  },
  {
   "cell_type": "markdown",
   "metadata": {},
   "source": [
    "# Array MATH"
   ]
  },
  {
   "cell_type": "code",
   "execution_count": 52,
   "metadata": {},
   "outputs": [],
   "source": [
    "array_a = np.array([[1,2],[3,4]])\n",
    "array_b = np.array([[5,6],[7,8]])"
   ]
  },
  {
   "cell_type": "code",
   "execution_count": 53,
   "metadata": {},
   "outputs": [
    {
     "name": "stdout",
     "output_type": "stream",
     "text": [
      "[[1 2]\n",
      " [3 4]]\n",
      "10\n",
      "Axis 1: [3 7]\n",
      "Axis 0: [4 6]\n",
      "[ 1  3  6 10]\n",
      "24\n",
      "[ 1  2  6 24]\n"
     ]
    }
   ],
   "source": [
    "#Single Array MATH\n",
    "print(array_a)\n",
    "print(array_a.sum())\n",
    "print('Axis 1:', array_a.sum(axis = 1)) #row\n",
    "print('Axis 0:', array_a.sum(axis = 0)) #column\n",
    "print(array_a.cumsum())\n",
    "print(array_a.prod())\n",
    "print(array_a.cumprod())"
   ]
  },
  {
   "cell_type": "code",
   "execution_count": 54,
   "metadata": {},
   "outputs": [
    {
     "name": "stdout",
     "output_type": "stream",
     "text": [
      "[[1 2]\n",
      " [3 4]]\n",
      "[[5 6]\n",
      " [7 8]]\n"
     ]
    }
   ],
   "source": [
    "print(array_a)\n",
    "print(array_b)"
   ]
  },
  {
   "cell_type": "code",
   "execution_count": 55,
   "metadata": {},
   "outputs": [
    {
     "name": "stdout",
     "output_type": "stream",
     "text": [
      "[[ 6  8]\n",
      " [10 12]]\n",
      "[[-4 -4]\n",
      " [-4 -4]]\n",
      "[[ 5 12]\n",
      " [21 32]]\n",
      "[[0.2        0.33333333]\n",
      " [0.42857143 0.5       ]]\n"
     ]
    }
   ],
   "source": [
    "#Multiple Array Math (element by element operation)\n",
    "print(array_a + array_b)\n",
    "print(array_a - array_b)\n",
    "print(array_a * array_b)\n",
    "print(array_a / array_b)"
   ]
  },
  {
   "cell_type": "code",
   "execution_count": 56,
   "metadata": {},
   "outputs": [
    {
     "name": "stdout",
     "output_type": "stream",
     "text": [
      "[[19 22]\n",
      " [43 50]]\n"
     ]
    }
   ],
   "source": [
    "#Vector Math (Matrics Multiplication: Not element wise )\n",
    "print(np.dot(array_a, array_b))"
   ]
  },
  {
   "cell_type": "code",
   "execution_count": 57,
   "metadata": {},
   "outputs": [
    {
     "name": "stdout",
     "output_type": "stream",
     "text": [
      "[[1 2 3]\n",
      " [4 5 6]\n",
      " [7 8 9]]\n",
      "[[10 11 12]\n",
      " [13 14 15]\n",
      " [16 17 18]]\n"
     ]
    }
   ],
   "source": [
    "array_a = np.array([[1,2,3], [4,5,6], [7,8,9]])\n",
    "array_b = np.array([[10,11,12],[13,14,15],[16,17,18]])\n",
    "print(array_a)\n",
    "print(array_b)"
   ]
  },
  {
   "cell_type": "code",
   "execution_count": 58,
   "metadata": {},
   "outputs": [
    {
     "name": "stdout",
     "output_type": "stream",
     "text": [
      "8\n",
      "8\n"
     ]
    }
   ],
   "source": [
    "##Peak To Peak (difference or get a range)\n",
    "print(array_a.ptp()) #9-1 (Max - Min)\n",
    "print(array_b.ptp()) #18-10 (Max - Min)"
   ]
  },
  {
   "cell_type": "code",
   "execution_count": 59,
   "metadata": {},
   "outputs": [
    {
     "name": "stdout",
     "output_type": "stream",
     "text": [
      "[2 2 2]\n",
      "[2 2 2]\n"
     ]
    }
   ],
   "source": [
    "print(array_a.ptp(axis = 1)) #(Max - Min) by each ROW\n",
    "print(array_b.ptp(axis = 1)) #(Max - Min)"
   ]
  },
  {
   "cell_type": "code",
   "execution_count": 60,
   "metadata": {},
   "outputs": [
    {
     "name": "stdout",
     "output_type": "stream",
     "text": [
      "[6 6 6]\n",
      "[6 6 6]\n"
     ]
    }
   ],
   "source": [
    "print(array_a.ptp(axis = 0)) #(Max - Min) by each COLUMN\n",
    "print(array_b.ptp(axis = 0)) #(Max - Min)"
   ]
  },
  {
   "cell_type": "code",
   "execution_count": 61,
   "metadata": {},
   "outputs": [
    {
     "name": "stdout",
     "output_type": "stream",
     "text": [
      "1\n",
      "[1 4 7]\n",
      "[1 2 3]\n"
     ]
    }
   ],
   "source": [
    "print(array_a.min())\n",
    "print(array_a.min(axis = 1))\n",
    "print(array_a.min(axis = 0))"
   ]
  },
  {
   "cell_type": "code",
   "execution_count": 62,
   "metadata": {},
   "outputs": [
    {
     "name": "stdout",
     "output_type": "stream",
     "text": [
      "9\n",
      "[3 6 9]\n",
      "[7 8 9]\n"
     ]
    }
   ],
   "source": [
    "print(array_a.max())\n",
    "print(array_a.max(axis = 1)) #row\n",
    "print(array_a.max(axis = 0)) #column"
   ]
  },
  {
   "cell_type": "code",
   "execution_count": 63,
   "metadata": {},
   "outputs": [
    {
     "name": "stdout",
     "output_type": "stream",
     "text": [
      "5.0\n",
      "[2. 5. 8.]\n",
      "[4. 5. 6.]\n"
     ]
    }
   ],
   "source": [
    "print(array_a.mean())\n",
    "print(array_a.mean(axis = 1)) #row\n",
    "print(array_a.mean(axis = 0)) #column"
   ]
  },
  {
   "cell_type": "code",
   "execution_count": 64,
   "metadata": {},
   "outputs": [
    {
     "name": "stdout",
     "output_type": "stream",
     "text": [
      "45\n",
      "9\n",
      "Mean =  5.0\n"
     ]
    }
   ],
   "source": [
    "print(array_a.sum())\n",
    "print(array_a.size)\n",
    "print('Mean = ', (array_a.sum())/(array_a.size) )"
   ]
  },
  {
   "cell_type": "code",
   "execution_count": 65,
   "metadata": {},
   "outputs": [
    {
     "name": "stdout",
     "output_type": "stream",
     "text": [
      "[[                 1               2048             531441]\n",
      " [          67108864         6103515625       470184984576]\n",
      " [    33232930569601   2251799813685248 150094635296999121]]\n"
     ]
    }
   ],
   "source": [
    "#Power (base, exponent)\n",
    "print(np.power(array_a, array_b))"
   ]
  },
  {
   "cell_type": "code",
   "execution_count": 66,
   "metadata": {},
   "outputs": [
    {
     "data": {
      "text/plain": [
       "array([[1, 2, 3],\n",
       "       [4, 5, 6],\n",
       "       [7, 8, 9]])"
      ]
     },
     "execution_count": 66,
     "metadata": {},
     "output_type": "execute_result"
    }
   ],
   "source": [
    "array_a"
   ]
  },
  {
   "cell_type": "code",
   "execution_count": 67,
   "metadata": {},
   "outputs": [
    {
     "data": {
      "text/plain": [
       "array([[10, 11, 12],\n",
       "       [13, 14, 15],\n",
       "       [16, 17, 18]])"
      ]
     },
     "execution_count": 67,
     "metadata": {},
     "output_type": "execute_result"
    }
   ],
   "source": [
    "array_b"
   ]
  },
  {
   "cell_type": "code",
   "execution_count": 68,
   "metadata": {},
   "outputs": [
    {
     "data": {
      "text/plain": [
       "array([[1, 1, 1],\n",
       "       [2, 2, 2],\n",
       "       [3, 3, 3]])"
      ]
     },
     "execution_count": 68,
     "metadata": {},
     "output_type": "execute_result"
    }
   ],
   "source": [
    "array_c = np.array([[1,1,1],[2,2,2],[3,3,3]])\n",
    "array_c"
   ]
  },
  {
   "cell_type": "code",
   "execution_count": 69,
   "metadata": {},
   "outputs": [
    {
     "name": "stdout",
     "output_type": "stream",
     "text": [
      "[[ 10  22  36]\n",
      " [104 140 180]\n",
      " [336 408 486]]\n"
     ]
    }
   ],
   "source": [
    "print(array_a * array_b * array_c)"
   ]
  },
  {
   "cell_type": "markdown",
   "metadata": {},
   "source": [
    "# NumPy Broadcasting"
   ]
  },
  {
   "cell_type": "code",
   "execution_count": 70,
   "metadata": {},
   "outputs": [],
   "source": [
    "#Allow us to do numerical operations using numpy array of DIFFERENT SIZES\n",
    "#To do broadcasting, you need to have atleast same number of rows or columns between 2 arrays"
   ]
  },
  {
   "cell_type": "code",
   "execution_count": 71,
   "metadata": {},
   "outputs": [
    {
     "name": "stdout",
     "output_type": "stream",
     "text": [
      "[[1 1 1 1]\n",
      " [2 2 2 2]\n",
      " [3 3 3 3]]\n",
      "[0 1 2 3]\n"
     ]
    }
   ],
   "source": [
    "array_a = np.array([[1,1,1,1], [2,2,2,2],[3,3,3,3]])\n",
    "array_b = np.array([0,1,2,3])\n",
    "array_c = np.array([[1],[2],[3]])\n",
    "print(array_a)\n",
    "print(array_b)"
   ]
  },
  {
   "cell_type": "code",
   "execution_count": 72,
   "metadata": {},
   "outputs": [
    {
     "name": "stdout",
     "output_type": "stream",
     "text": [
      "[[1 2 3 4]\n",
      " [2 3 4 5]\n",
      " [3 4 5 6]]\n"
     ]
    }
   ],
   "source": [
    "#broadcasting saves us time by not typing the same numbers again\n",
    "print(array_a + array_b)"
   ]
  },
  {
   "cell_type": "code",
   "execution_count": 73,
   "metadata": {},
   "outputs": [
    {
     "name": "stdout",
     "output_type": "stream",
     "text": [
      "[[1 2 3 4]\n",
      " [2 3 4 5]\n",
      " [3 4 5 6]]\n"
     ]
    }
   ],
   "source": [
    "#array b & d are SAME (broadcasting)\n",
    "array_a = np.array([[1,1,1,1], [2,2,2,2],[3,3,3,3]])\n",
    "array_b = np.array([0,1,2,3])\n",
    "array_d = np.array([[0,1,2,3],[0,1,2,3],[0,1,2,3]])\n",
    "print(array_a + array_d)"
   ]
  },
  {
   "cell_type": "code",
   "execution_count": 74,
   "metadata": {},
   "outputs": [
    {
     "name": "stdout",
     "output_type": "stream",
     "text": [
      "[[2 2 2 2]\n",
      " [4 4 4 4]\n",
      " [6 6 6 6]]\n"
     ]
    }
   ],
   "source": [
    "print(array_a + array_c)"
   ]
  },
  {
   "cell_type": "code",
   "execution_count": 75,
   "metadata": {},
   "outputs": [
    {
     "name": "stdout",
     "output_type": "stream",
     "text": [
      "[[1 1 1 1 1]\n",
      " [1 1 1 1 1]\n",
      " [1 1 1 1 1]\n",
      " [1 1 1 1 1]\n",
      " [1 1 1 1 1]]\n",
      "[1 2 3 4 5]\n",
      "[[1 2 3 4 5]\n",
      " [1 2 3 4 5]\n",
      " [1 2 3 4 5]\n",
      " [1 2 3 4 5]\n",
      " [1 2 3 4 5]]\n"
     ]
    }
   ],
   "source": [
    "#Broadcasting \n",
    "#create a 5x5 array of value 1\n",
    "array_1 = np.ones([5,5], dtype = np.int16)\n",
    "print(array_1)\n",
    "\n",
    "array_5 = np.array([1,2,3,4,5])\n",
    "print(array_5)\n",
    "\n",
    "print(array_1 * array_5)"
   ]
  },
  {
   "cell_type": "code",
   "execution_count": null,
   "metadata": {},
   "outputs": [],
   "source": []
  },
  {
   "cell_type": "code",
   "execution_count": null,
   "metadata": {},
   "outputs": [],
   "source": []
  }
 ],
 "metadata": {
  "kernelspec": {
   "display_name": "Python 3",
   "language": "python",
   "name": "python3"
  },
  "language_info": {
   "codemirror_mode": {
    "name": "ipython",
    "version": 3
   },
   "file_extension": ".py",
   "mimetype": "text/x-python",
   "name": "python",
   "nbconvert_exporter": "python",
   "pygments_lexer": "ipython3",
   "version": "3.7.4"
  }
 },
 "nbformat": 4,
 "nbformat_minor": 2
}
