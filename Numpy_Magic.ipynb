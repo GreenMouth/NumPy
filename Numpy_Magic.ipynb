{
 "cells": [
  {
   "cell_type": "code",
   "execution_count": 1,
   "metadata": {},
   "outputs": [],
   "source": [
    "#import required libraries\n",
    "import numpy as np\n",
    "import pandas as pd\n",
    "import matplotlib.pyplot as plt\n"
   ]
  },
  {
   "cell_type": "code",
   "execution_count": 2,
   "metadata": {},
   "outputs": [],
   "source": [
    "############################################\n",
    "############################################"
   ]
  },
  {
   "cell_type": "code",
   "execution_count": 3,
   "metadata": {},
   "outputs": [
    {
     "data": {
      "text/plain": [
       "<function matplotlib.pyplot.show(*args, **kw)>"
      ]
     },
     "execution_count": 3,
     "metadata": {},
     "output_type": "execute_result"
    },
    {
     "data": {
      "image/png": "[encoded data removed]",
      "text/plain": [
       "<Figure size 432x288 with 1 Axes>"
      ]
     },
     "metadata": {
      "needs_background": "light"
     },
     "output_type": "display_data"
    }
   ],
   "source": [
    "#Generate random data for LINEAR regression\n",
    "Linear_Points = np.linspace(0.0,10.0,10000)\n",
    "plt.plot(Linear_Points)\n",
    "plt.show\n",
    "\n",
    "#To add random noise in your above created lib=near data\n",
    "#y = mx + b + noise_levels\n",
    "#Generate noise_levels using np.random.randn"
   ]
  },
  {
   "cell_type": "code",
   "execution_count": 4,
   "metadata": {},
   "outputs": [],
   "source": [
    "############################################\n",
    "############################################"
   ]
  },
  {
   "cell_type": "code",
   "execution_count": 5,
   "metadata": {},
   "outputs": [
    {
     "name": "stdout",
     "output_type": "stream",
     "text": [
      "Shape of A is: (4, 3)\n",
      "Type of A is: <class 'numpy.ndarray'>\n"
     ]
    },
    {
     "data": {
      "text/plain": [
       "array([[-1.49571896, -0.14652786, -0.55915289],\n",
       "       [-0.99933416, -0.3516945 ,  1.28332172],\n",
       "       [ 0.17387198, -0.38198568,  0.33436949],\n",
       "       [ 0.83905952, -1.70584762,  0.26109067]])"
      ]
     },
     "execution_count": 5,
     "metadata": {},
     "output_type": "execute_result"
    }
   ],
   "source": [
    "# random.randn: returns random values from the standard normal distribution in an array in the size of your choosing\n",
    "# Returns a sample (or samples) from the “standard normal” distribution(mu=0, stdev=1).\n",
    "# generate non-overlapping random values\n",
    "# Use: to initialise weights in a deep neural network & then optimise weights\n",
    "# https://docs.scipy.org/doc/numpy-1.14.0/reference/generated/numpy.random.randn.html\n",
    "\n",
    "A = np.random.randn(4,3)\n",
    "print('Shape of A is:', A.shape)\n",
    "print('Type of A is:', type(A))\n",
    "\n",
    "A"
   ]
  },
  {
   "cell_type": "code",
   "execution_count": 6,
   "metadata": {},
   "outputs": [
    {
     "name": "stdout",
     "output_type": "stream",
     "text": [
      "List is:\n",
      " [-1.4957189641432098, -0.14652785912915048, -0.5591528929680912, -0.9993341630281423, -0.35169449772274475, 1.2833217242472255, 0.17387198254695324, -0.3819856832000591, 0.3343694948174102, 0.8390595157956687, -1.7058476194473042, 0.2610906725112895]\n",
      "\n",
      "Number of list elements 12\n"
     ]
    }
   ],
   "source": [
    "L = [] #save all elements of numpy array into a List\n",
    "\n",
    "for i in A:\n",
    "    #print(type(i))\n",
    "    i = list(i)\n",
    "    #print(type(i))\n",
    "    #print(i)\n",
    "    for num in i:\n",
    "        #print('num is:',num)\n",
    "        L.append(num)\n",
    "        \n",
    "print('List is:\\n',L)\n",
    "print('\\nNumber of list elements', len(L))"
   ]
  },
  {
   "cell_type": "code",
   "execution_count": 7,
   "metadata": {},
   "outputs": [
    {
     "data": {
      "text/plain": [
       "[-1.4957189641432098,\n",
       " -0.14652785912915048,\n",
       " -0.5591528929680912,\n",
       " -0.9993341630281423,\n",
       " -0.35169449772274475,\n",
       " 1.2833217242472255,\n",
       " 0.17387198254695324,\n",
       " -0.3819856832000591,\n",
       " 0.3343694948174102,\n",
       " 0.8390595157956687,\n",
       " -1.7058476194473042,\n",
       " 0.2610906725112895]"
      ]
     },
     "execution_count": 7,
     "metadata": {},
     "output_type": "execute_result"
    }
   ],
   "source": [
    "L"
   ]
  },
  {
   "cell_type": "code",
   "execution_count": 8,
   "metadata": {},
   "outputs": [
    {
     "data": {
      "image/png": "[encoded data removed]",
      "text/plain": [
       "<Figure size 432x288 with 1 Axes>"
      ]
     },
     "metadata": {
      "needs_background": "light"
     },
     "output_type": "display_data"
    }
   ],
   "source": [
    "#Display np.random.randn values\n",
    "plt.plot(L)\n",
    "plt.show()"
   ]
  },
  {
   "cell_type": "code",
   "execution_count": 9,
   "metadata": {},
   "outputs": [
    {
     "data": {
      "text/html": [
       "<div>\n",
       "<style scoped>\n",
       "    .dataframe tbody tr th:only-of-type {\n",
       "        vertical-align: middle;\n",
       "    }\n",
       "\n",
       "    .dataframe tbody tr th {\n",
       "        vertical-align: top;\n",
       "    }\n",
       "\n",
       "    .dataframe thead th {\n",
       "        text-align: right;\n",
       "    }\n",
       "</style>\n",
       "<table border=\"1\" class=\"dataframe\">\n",
       "  <thead>\n",
       "    <tr style=\"text-align: right;\">\n",
       "      <th></th>\n",
       "      <th>np.random.randn_Values</th>\n",
       "    </tr>\n",
       "  </thead>\n",
       "  <tbody>\n",
       "    <tr>\n",
       "      <td>0</td>\n",
       "      <td>-1.495719</td>\n",
       "    </tr>\n",
       "    <tr>\n",
       "      <td>1</td>\n",
       "      <td>-0.146528</td>\n",
       "    </tr>\n",
       "    <tr>\n",
       "      <td>2</td>\n",
       "      <td>-0.559153</td>\n",
       "    </tr>\n",
       "    <tr>\n",
       "      <td>3</td>\n",
       "      <td>-0.999334</td>\n",
       "    </tr>\n",
       "    <tr>\n",
       "      <td>4</td>\n",
       "      <td>-0.351694</td>\n",
       "    </tr>\n",
       "  </tbody>\n",
       "</table>\n",
       "</div>"
      ],
      "text/plain": [
       "   np.random.randn_Values\n",
       "0               -1.495719\n",
       "1               -0.146528\n",
       "2               -0.559153\n",
       "3               -0.999334\n",
       "4               -0.351694"
      ]
     },
     "execution_count": 9,
     "metadata": {},
     "output_type": "execute_result"
    }
   ],
   "source": [
    "#Convert LIST to a Pnadas Dataframe\n",
    "df = pd.DataFrame(L, columns = ['np.random.randn_Values'])\n",
    "df.head()"
   ]
  },
  {
   "cell_type": "code",
   "execution_count": 10,
   "metadata": {},
   "outputs": [
    {
     "data": {
      "text/html": [
       "<div>\n",
       "<style scoped>\n",
       "    .dataframe tbody tr th:only-of-type {\n",
       "        vertical-align: middle;\n",
       "    }\n",
       "\n",
       "    .dataframe tbody tr th {\n",
       "        vertical-align: top;\n",
       "    }\n",
       "\n",
       "    .dataframe thead th {\n",
       "        text-align: right;\n",
       "    }\n",
       "</style>\n",
       "<table border=\"1\" class=\"dataframe\">\n",
       "  <thead>\n",
       "    <tr style=\"text-align: right;\">\n",
       "      <th></th>\n",
       "      <th>np.random.randn_Values</th>\n",
       "    </tr>\n",
       "  </thead>\n",
       "  <tbody>\n",
       "    <tr>\n",
       "      <td>count</td>\n",
       "      <td>12.000000</td>\n",
       "    </tr>\n",
       "    <tr>\n",
       "      <td>mean</td>\n",
       "      <td>-0.229046</td>\n",
       "    </tr>\n",
       "    <tr>\n",
       "      <td>std</td>\n",
       "      <td>0.888363</td>\n",
       "    </tr>\n",
       "    <tr>\n",
       "      <td>min</td>\n",
       "      <td>-1.705848</td>\n",
       "    </tr>\n",
       "    <tr>\n",
       "      <td>25%</td>\n",
       "      <td>-0.669198</td>\n",
       "    </tr>\n",
       "    <tr>\n",
       "      <td>50%</td>\n",
       "      <td>-0.249111</td>\n",
       "    </tr>\n",
       "    <tr>\n",
       "      <td>75%</td>\n",
       "      <td>0.279410</td>\n",
       "    </tr>\n",
       "    <tr>\n",
       "      <td>max</td>\n",
       "      <td>1.283322</td>\n",
       "    </tr>\n",
       "  </tbody>\n",
       "</table>\n",
       "</div>"
      ],
      "text/plain": [
       "       np.random.randn_Values\n",
       "count               12.000000\n",
       "mean                -0.229046\n",
       "std                  0.888363\n",
       "min                 -1.705848\n",
       "25%                 -0.669198\n",
       "50%                 -0.249111\n",
       "75%                  0.279410\n",
       "max                  1.283322"
      ]
     },
     "execution_count": 10,
     "metadata": {},
     "output_type": "execute_result"
    }
   ],
   "source": [
    "#Check data distribution stats generated by np.random.randn\n",
    "df.describe()"
   ]
  },
  {
   "cell_type": "code",
   "execution_count": 11,
   "metadata": {},
   "outputs": [
    {
     "name": "stdout",
     "output_type": "stream",
     "text": [
      "Shape of A is: (4, 3)\n"
     ]
    }
   ],
   "source": [
    "#SHape of A\n",
    "print('Shape of A is:', A.shape)"
   ]
  },
  {
   "cell_type": "code",
   "execution_count": 12,
   "metadata": {},
   "outputs": [
    {
     "name": "stdout",
     "output_type": "stream",
     "text": [
      "Shape of B_1 is: (4, 1)\n",
      "Type of B is: <class 'numpy.ndarray'>\n"
     ]
    },
    {
     "data": {
      "text/plain": [
       "array([[-2.20139972],\n",
       "       [-0.06770694],\n",
       "       [ 0.12625579],\n",
       "       [-0.60569743]])"
      ]
     },
     "execution_count": 12,
     "metadata": {},
     "output_type": "execute_result"
    }
   ],
   "source": [
    "#ROW-wise sum of A - Generate a column vector\n",
    "B_1 = np.sum(A, axis = 1, keepdims = True)\n",
    "print('Shape of B_1 is:', B_1.shape)\n",
    "print('Type of B is:', type(B_1))\n",
    "\n",
    "B_1"
   ]
  },
  {
   "cell_type": "code",
   "execution_count": 13,
   "metadata": {},
   "outputs": [
    {
     "name": "stdout",
     "output_type": "stream",
     "text": [
      "Shape of B_1 is: (1, 3)\n",
      "Type of B is: <class 'numpy.ndarray'>\n"
     ]
    },
    {
     "data": {
      "text/plain": [
       "array([[-1.48212163, -2.58605566,  1.319629  ]])"
      ]
     },
     "execution_count": 13,
     "metadata": {},
     "output_type": "execute_result"
    }
   ],
   "source": [
    "#Column-wise sum of A - Generate a row vector\n",
    "B_1 = np.sum(A, axis = 0, keepdims = True)\n",
    "print('Shape of B_1 is:', B_1.shape)\n",
    "print('Type of B is:', type(B_1))\n",
    "\n",
    "B_1"
   ]
  },
  {
   "cell_type": "code",
   "execution_count": 14,
   "metadata": {},
   "outputs": [],
   "source": [
    "############################################\n",
    "############################################"
   ]
  },
  {
   "cell_type": "code",
   "execution_count": 15,
   "metadata": {},
   "outputs": [],
   "source": [
    "#More to come "
   ]
  },
  {
   "cell_type": "code",
   "execution_count": null,
   "metadata": {},
   "outputs": [],
   "source": []
  }
 ],
 "metadata": {
  "kernelspec": {
   "display_name": "Python 3",
   "language": "python",
   "name": "python3"
  },
  "language_info": {
   "codemirror_mode": {
    "name": "ipython",
    "version": 3
   },
   "file_extension": ".py",
   "mimetype": "text/x-python",
   "name": "python",
   "nbconvert_exporter": "python",
   "pygments_lexer": "ipython3",
   "version": "3.7.3"
  }
 },
 "nbformat": 4,
 "nbformat_minor": 2
}
